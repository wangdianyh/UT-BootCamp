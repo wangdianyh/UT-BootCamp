{
 "cells": [
  {
   "cell_type": "code",
   "execution_count": 1,
   "metadata": {
    "collapsed": true
   },
   "outputs": [],
   "source": [
    "import os\n",
    "import re"
   ]
  },
  {
   "cell_type": "code",
   "execution_count": 2,
   "metadata": {
    "collapsed": true
   },
   "outputs": [],
   "source": [
    "path1 = 'paragraph_1.txt'\n",
    "path2 = 'paragraph_2.txt'"
   ]
  },
  {
   "cell_type": "code",
   "execution_count": 8,
   "metadata": {
    "collapsed": true
   },
   "outputs": [],
   "source": [
    "def count_letter(txt, count):\n",
    "    letter_count = 0\n",
    "    for char in txt:\n",
    "        if(char != ' '):\n",
    "            letter_count += 1\n",
    "        \n",
    "    return round(letter_count / count, 1)"
   ]
  },
  {
   "cell_type": "code",
   "execution_count": 10,
   "metadata": {
    "collapsed": true
   },
   "outputs": [],
   "source": [
    "def count_sentence_len(txt):\n",
    "    sentence_len = txt.split('.')\n",
    "    sentence_len.pop(len(sentence_len) - 1)\n",
    "    sentence_count = 0\n",
    "    for sentence in sentence_len:\n",
    "        sentence_count += len(re.findall(r'\\w+', sentence))\n",
    "    \n",
    "    return round(sentence_count / len(sentence_len), 1)"
   ]
  },
  {
   "cell_type": "code",
   "execution_count": 12,
   "metadata": {
    "collapsed": true
   },
   "outputs": [],
   "source": [
    "def paragraph_analysis(path):\n",
    "    f= open(path, 'r')\n",
    "    txt = f.read()\n",
    "    count = len(re.findall(r'\\w+', txt))\n",
    "    sentence = txt.count('.')\n",
    "    \n",
    "    average_letter_count = count_letter(txt, count)\n",
    "    average_sentence_word = count_sentence_len(txt)\n",
    "    \n",
    "    exp = open('output_' + path, 'w')\n",
    "    print('Paragraph Analysis ' + path + '\\n'\n",
    "          '-----------------\\nApproximate Word Count: ' + str(count) + '\\n'\n",
    "           'Approximate Sentence Count: ' + str(sentence) + '\\n'\n",
    "           'Average Letter Count: ' + str(average_letter_count) + '\\n'\n",
    "           'Average Sentence Length: ' + str(average_sentence_word) + '\\n', file=exp)\n",
    "    \n",
    "paragraph_analysis(path1)\n",
    "paragraph_analysis(path2)"
   ]
  },
  {
   "cell_type": "code",
   "execution_count": null,
   "metadata": {
    "collapsed": true
   },
   "outputs": [],
   "source": []
  }
 ],
 "metadata": {
  "kernelspec": {
   "display_name": "Python 3",
   "language": "python",
   "name": "python3"
  },
  "language_info": {
   "codemirror_mode": {
    "name": "ipython",
    "version": 3
   },
   "file_extension": ".py",
   "mimetype": "text/x-python",
   "name": "python",
   "nbconvert_exporter": "python",
   "pygments_lexer": "ipython3",
   "version": "3.6.3"
  }
 },
 "nbformat": 4,
 "nbformat_minor": 2
}
